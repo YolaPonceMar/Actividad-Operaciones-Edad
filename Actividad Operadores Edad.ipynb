{
 "cells": [
  {
   "cell_type": "markdown",
   "id": "13497ced",
   "metadata": {},
   "source": [
    "## Ejercicio. Edad"
   ]
  },
  {
   "cell_type": "code",
   "execution_count": 2,
   "id": "fdbaa3f5",
   "metadata": {},
   "outputs": [],
   "source": [
    "## \n",
    "#1 el doble de mi edad tiene 24 años ¿cuantos años tengo?\n",
    "#2 A un tercio de la edad de mi hermana la disminuyo en 15. Tengo 6 años. ¿Que edad tiene?\n",
    "#3 Determina quien es mayor\n",
    "##"
   ]
  },
  {
   "cell_type": "code",
   "execution_count": 3,
   "id": "a31838a6",
   "metadata": {},
   "outputs": [],
   "source": [
    "mi_edad=24//2"
   ]
  },
  {
   "cell_type": "code",
   "execution_count": 4,
   "id": "6888f7af",
   "metadata": {},
   "outputs": [
    {
     "data": {
      "text/plain": [
       "12"
      ]
     },
     "execution_count": 4,
     "metadata": {},
     "output_type": "execute_result"
    }
   ],
   "source": [
    "mi_edad"
   ]
  },
  {
   "cell_type": "code",
   "execution_count": 5,
   "id": "f419b3fa",
   "metadata": {},
   "outputs": [
    {
     "name": "stdout",
     "output_type": "stream",
     "text": [
      "Mi edad es 12\n"
     ]
    }
   ],
   "source": [
    "print (\"Mi edad es\", mi_edad)"
   ]
  },
  {
   "cell_type": "code",
   "execution_count": 6,
   "id": "a8352dbd",
   "metadata": {},
   "outputs": [],
   "source": [
    "# 1/3 (x) -15 = a"
   ]
  },
  {
   "cell_type": "code",
   "execution_count": 7,
   "id": "9333d93b",
   "metadata": {},
   "outputs": [],
   "source": [
    "# a=6"
   ]
  },
  {
   "cell_type": "code",
   "execution_count": 8,
   "id": "f75d1034",
   "metadata": {},
   "outputs": [],
   "source": [
    "# x=(a+15)/(1/3)"
   ]
  },
  {
   "cell_type": "code",
   "execution_count": 9,
   "id": "d9d1f24c",
   "metadata": {},
   "outputs": [],
   "source": [
    "edad_hermana=15+6"
   ]
  },
  {
   "cell_type": "code",
   "execution_count": 10,
   "id": "c23ae4af",
   "metadata": {},
   "outputs": [],
   "source": [
    "resultado = edad_hermana*3"
   ]
  },
  {
   "cell_type": "code",
   "execution_count": 11,
   "id": "5f348226",
   "metadata": {},
   "outputs": [
    {
     "data": {
      "text/plain": [
       "63"
      ]
     },
     "execution_count": 11,
     "metadata": {},
     "output_type": "execute_result"
    }
   ],
   "source": [
    "resultado"
   ]
  },
  {
   "cell_type": "code",
   "execution_count": 12,
   "id": "7f83ed65",
   "metadata": {},
   "outputs": [
    {
     "data": {
      "text/plain": [
       "63"
      ]
     },
     "execution_count": 12,
     "metadata": {},
     "output_type": "execute_result"
    }
   ],
   "source": [
    "max (mi_edad, resultado)"
   ]
  },
  {
   "cell_type": "code",
   "execution_count": 13,
   "id": "08a87d85",
   "metadata": {},
   "outputs": [
    {
     "data": {
      "text/plain": [
       "False"
      ]
     },
     "execution_count": 13,
     "metadata": {},
     "output_type": "execute_result"
    }
   ],
   "source": [
    "mi_edad>edad_hermana"
   ]
  },
  {
   "cell_type": "code",
   "execution_count": 14,
   "id": "e96b8387",
   "metadata": {},
   "outputs": [
    {
     "data": {
      "text/plain": [
       "True"
      ]
     },
     "execution_count": 14,
     "metadata": {},
     "output_type": "execute_result"
    }
   ],
   "source": [
    "mi_edad<edad_hermana"
   ]
  },
  {
   "cell_type": "code",
   "execution_count": null,
   "id": "27f6b8ef",
   "metadata": {},
   "outputs": [],
   "source": []
  }
 ],
 "metadata": {
  "kernelspec": {
   "display_name": "Python 3 (ipykernel)",
   "language": "python",
   "name": "python3"
  },
  "language_info": {
   "codemirror_mode": {
    "name": "ipython",
    "version": 3
   },
   "file_extension": ".py",
   "mimetype": "text/x-python",
   "name": "python",
   "nbconvert_exporter": "python",
   "pygments_lexer": "ipython3",
   "version": "3.9.12"
  }
 },
 "nbformat": 4,
 "nbformat_minor": 5
}
